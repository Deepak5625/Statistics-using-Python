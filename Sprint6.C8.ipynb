{
 "cells": [
  {
   "cell_type": "code",
   "execution_count": null,
   "id": "90aba342-be69-479a-82df-708b91088822",
   "metadata": {},
   "outputs": [],
   "source": [
    "#Business Objective 4\n",
    "\n",
    "#Analyzing Advertising Budget for Premium Computers by Identifying Budget Allocation."
   ]
  },
  {
   "cell_type": "code",
   "execution_count": null,
   "id": "9ad6a43b-fe66-4cca-9978-c4fd9243d318",
   "metadata": {},
   "outputs": [],
   "source": [
    "#Task 1\n",
    "\n",
    "#The advertising budget spent on promoting premium computers in 2023 is increased as compared to 2022. The mean advertising budget was 221.3 billion dollars in 2022 and was 222.2 billion dollars in 2023 A promoter in this company believes that the average advertising budget is higher than that of 2022. Priya, a data analyst, randomly selected 40 premium computers to check this notion.\n",
    "\n",
    "#Use a 5% level of significance to test Maya's hypothesis. Consider normally distribution in the population and standard deviation is 74.83."
   ]
  },
  {
   "cell_type": "code",
   "execution_count": 1,
   "id": "275a7624-ef70-461e-b5d9-58135e4d7f27",
   "metadata": {},
   "outputs": [
    {
     "name": "stdout",
     "output_type": "stream",
     "text": [
      "Z-Test Statistic: 0.07606708256451877\n",
      "Critical Z-Value: 1.6448536269514722\n",
      "Fail to reject the null hypothesis: There is no significant evidence that the average advertising budget in 2023 is higher than in 2022.\n"
     ]
    }
   ],
   "source": [
    "import math\n",
    "from scipy.stats import norm\n",
    "\n",
    "# Given data\n",
    "mu_0 = 221.3  # Mean in 2022\n",
    "x_bar = 222.2  # Sample mean in 2023\n",
    "sigma = 74.83  # Population standard deviation\n",
    "n = 40  # Sample size\n",
    "alpha = 0.05  # Significance level\n",
    "\n",
    "# Calculate z-test statistic\n",
    "z = (x_bar - mu_0) / (sigma / math.sqrt(n))\n",
    "\n",
    "# Critical z-value for one-tailed test\n",
    "z_critical = norm.ppf(1 - alpha)\n",
    "\n",
    "# Print results\n",
    "print(f\"Z-Test Statistic: {z}\")\n",
    "print(f\"Critical Z-Value: {z_critical}\")\n",
    "\n",
    "# Hypothesis testing\n",
    "if z >= z_critical:\n",
    "    print(\"Reject the null hypothesis: The average advertising budget in 2023 is significantly higher than in 2022.\")\n",
    "else:\n",
    "    print(\"Fail to reject the null hypothesis: There is no significant evidence that the average advertising budget in 2023 is higher than in 2022.\")"
   ]
  },
  {
   "cell_type": "code",
   "execution_count": null,
   "id": "aac6a21f-e417-4d2a-a7cb-0b199825584a",
   "metadata": {},
   "outputs": [],
   "source": [
    "#Interpretation:\n",
    "#If z≥1.645: This supports Maya's belief that the average advertising budget in 2023 is higher than in 2022.\n",
    "#If z<1.645: There is insufficient evidence to conclude that the advertising budget in 2023 is higher than in 2022."
   ]
  },
  {
   "cell_type": "code",
   "execution_count": null,
   "id": "0ff82190-cf65-4612-8314-c94f5c380d0a",
   "metadata": {},
   "outputs": [],
   "source": []
  },
  {
   "cell_type": "code",
   "execution_count": null,
   "id": "efbb885a-07d8-4fad-a314-fcf3f9c8dbb2",
   "metadata": {},
   "outputs": [],
   "source": [
    "#Business Objective 5\n",
    "\n",
    "#Evaluate the Price Difference between Computers with and without CD Players"
   ]
  },
  {
   "cell_type": "code",
   "execution_count": null,
   "id": "10599826-778f-4607-9a5e-c3e1752c94bb",
   "metadata": {},
   "outputs": [],
   "source": [
    "#Task 2\n",
    "\n",
    "#Is there a statistically significant difference in the average price of computers with CD players and computers without CD players? Use 5% of the significance level for the test"
   ]
  },
  {
   "cell_type": "code",
   "execution_count": 3,
   "id": "22d43bab-ccfd-48a5-9835-e67172e255d0",
   "metadata": {},
   "outputs": [],
   "source": [
    "df=pd.read_csv(r\"C:\\Users\\91994\\Downloads\\DS1_C8_Computers_Data_Project.csv\")"
   ]
  },
  {
   "cell_type": "code",
   "execution_count": 4,
   "id": "77d34952-3f7d-4919-bb5c-ae3e285b69fa",
   "metadata": {},
   "outputs": [
    {
     "name": "stdout",
     "output_type": "stream",
     "text": [
      "T-Test Statistic: 16.07486310306849\n",
      "P-Value: 5.242465665078034e-57\n",
      "Reject the null hypothesis: There is a statistically significant difference in the average prices.\n"
     ]
    }
   ],
   "source": [
    "import pandas as pd\n",
    "from scipy.stats import ttest_ind\n",
    "\n",
    "# Spliting the data into two groups: With CD players and Without CD players\n",
    "cd_group = df[df['cd'] == 'yes']['price']\n",
    "no_cd_group = df[df['cd'] == 'no']['price']\n",
    "\n",
    "# Perform an independent two-sample t-test\n",
    "t_stat, p_value = ttest_ind(cd_group, no_cd_group, equal_var=False)  # Assume unequal variances\n",
    "\n",
    "# Print the results\n",
    "print(f\"T-Test Statistic: {t_stat}\")\n",
    "print(f\"P-Value: {p_value}\")\n",
    "\n",
    "# Check significance\n",
    "alpha = 0.05\n",
    "if p_value < alpha:\n",
    "    print(\"Reject the null hypothesis: There is a statistically significant difference in the average prices.\")\n",
    "else:\n",
    "    print(\"Fail to reject the null hypothesis: There is no statistically significant difference in the average prices.\")\n"
   ]
  },
  {
   "cell_type": "code",
   "execution_count": null,
   "id": "c574b693-11c8-4088-a80c-289d70bb1f04",
   "metadata": {},
   "outputs": [],
   "source": [
    "#Interpretation:\n",
    "#If p-value < 0.05:\n",
    "#Reject the null hypothesis. There is evidence of a significant difference in average prices between computers with and without CD players.\n",
    "\n",
    "#If p-value ≥ 0.05:\n",
    "#Fail to reject the null hypothesis. There is no evidence of a significant difference in average prices."
   ]
  },
  {
   "cell_type": "code",
   "execution_count": null,
   "id": "47d0c7d1-5206-4c48-9c60-ebc07e19cb1f",
   "metadata": {},
   "outputs": [],
   "source": []
  },
  {
   "cell_type": "code",
   "execution_count": null,
   "id": "fb405421-b704-4cb5-b3c3-824e1bf62f96",
   "metadata": {},
   "outputs": [],
   "source": [
    "#Business Objective 6\n",
    "\n",
    "#Analyze Premium Computer Pricing Strategy"
   ]
  },
  {
   "cell_type": "code",
   "execution_count": null,
   "id": "5ca17250-4bc0-4e64-8e5e-b5425cec7105",
   "metadata": {},
   "outputs": [],
   "source": [
    "#Task 3\n",
    "\n",
    "#a) Identify Price Discrepancy for Premium Computers\n",
    "\n",
    "#Determine if the mean price of premium computers differs significantly from $2200?\n",
    "\n",
    "#To examine this, select 25 samples of premium computers randomly from the data. Assume the data is normally distributed in the population. Use a 5% significance level to test this hypothesis"
   ]
  },
  {
   "cell_type": "code",
   "execution_count": 5,
   "id": "f8e2316e-493b-4f16-93b9-71365ec4ea4d",
   "metadata": {},
   "outputs": [
    {
     "name": "stdout",
     "output_type": "stream",
     "text": [
      "T-Test Statistic: 0.5388085552024006\n",
      "P-Value: 0.5949820708830511\n",
      "Fail to reject the null hypothesis: The mean price of premium computers does not differ significantly from $2200.\n"
     ]
    }
   ],
   "source": [
    "import pandas as pd\n",
    "import numpy as np\n",
    "from scipy.stats import ttest_1samp\n",
    "\n",
    "# Filter data to include only premium computers\n",
    "premium_data = df[df['premium'] == 'yes']\n",
    "\n",
    "# Randomly select 25 samples of premium computers\n",
    "sample_premium = premium_data['price'].sample(n=25, random_state=42)\n",
    "\n",
    "# Perform a one-sample t-test\n",
    "t_stat, p_value = ttest_1samp(sample_premium, popmean=2200)\n",
    "\n",
    "# Print the results\n",
    "print(f\"T-Test Statistic: {t_stat}\")\n",
    "print(f\"P-Value: {p_value}\")\n",
    "\n",
    "# Check significance\n",
    "alpha = 0.05\n",
    "if p_value < alpha:\n",
    "    print(\"Reject the null hypothesis: The mean price of premium computers differs significantly from $2200.\")\n",
    "else:\n",
    "    print(\"Fail to reject the null hypothesis: The mean price of premium computers does not differ significantly from $2200.\")"
   ]
  },
  {
   "cell_type": "code",
   "execution_count": null,
   "id": "1ef1a158-78ff-42ec-a881-dc6320a7605c",
   "metadata": {},
   "outputs": [],
   "source": [
    "#Interpretation\n",
    "#If p-value < 0.05:\n",
    "#Reject the null hypothesis. This suggests that the mean price of premium computers is significantly different from $2200.\n",
    "\n",
    "#If p-value ≥ 0.05:\n",
    "#Fail to reject the null hypothesis. This implies there is no significant difference between the mean price of premium computers and $2200."
   ]
  },
  {
   "cell_type": "code",
   "execution_count": null,
   "id": "801b45cb-59c2-4ef8-b938-c14654308e9d",
   "metadata": {},
   "outputs": [],
   "source": []
  },
  {
   "cell_type": "code",
   "execution_count": null,
   "id": "2d1aeb7a-11cd-4069-baa9-4f21e9bb5c7e",
   "metadata": {},
   "outputs": [],
   "source": [
    "#Task 3 (cont'd)\n",
    "\n",
    "#b) Analyze price disparity between premium and non-premium computers\n",
    "\n",
    "#Is there a significant difference in the mean prices of premium and non-premium computers?\n",
    "\n",
    "#Assume that the prices are normally distributed and that the population variances are approximately equal. Use a 5% significance level to test this hypothesis."
   ]
  },
  {
   "cell_type": "code",
   "execution_count": 6,
   "id": "6f9179e7-8bb5-4721-9e64-578c38d6f2f0",
   "metadata": {},
   "outputs": [
    {
     "name": "stdout",
     "output_type": "stream",
     "text": [
      "T-Test Statistic: -6.404063996063658\n",
      "P-Value: 1.622883063853707e-10\n",
      "Reject the null hypothesis: There is a significant difference in the mean prices of premium and non-premium computers.\n"
     ]
    }
   ],
   "source": [
    "import pandas as pd\n",
    "from scipy.stats import ttest_ind\n",
    "\n",
    "# Separate the data into two groups\n",
    "premium_prices = df[df['premium'] == 'yes']['price']\n",
    "non_premium_prices = df[df['premium'] == 'no']['price']\n",
    "\n",
    "# Perform an independent two-sample t-test with equal variances\n",
    "t_stat, p_value = ttest_ind(premium_prices, non_premium_prices, equal_var=True)\n",
    "\n",
    "# Print the results\n",
    "print(f\"T-Test Statistic: {t_stat}\")\n",
    "print(f\"P-Value: {p_value}\")\n",
    "\n",
    "# Check significance\n",
    "alpha = 0.05\n",
    "if p_value < alpha:\n",
    "    print(\"Reject the null hypothesis: There is a significant difference in the mean prices of premium and non-premium computers.\")\n",
    "else:\n",
    "    print(\"Fail to reject the null hypothesis: There is no significant difference in the mean prices of premium and non-premium computers.\")"
   ]
  },
  {
   "cell_type": "code",
   "execution_count": null,
   "id": "b255b9b0-dacc-4db5-8802-a3328d1e7714",
   "metadata": {},
   "outputs": [],
   "source": [
    "#Interpretation\n",
    "#If p-value < 0.05:\n",
    "#Reject the null hypothesis. There is evidence of a significant difference in the mean prices of premium and non-premium computers.\n",
    "\n",
    "#If p-value ≥ 0.05:\n",
    "#Fail to reject the null hypothesis. There is no significant evidence to suggest a difference in the mean prices of premium and non-premium computers."
   ]
  }
 ],
 "metadata": {
  "kernelspec": {
   "display_name": "Python 3 (ipykernel)",
   "language": "python",
   "name": "python3"
  },
  "language_info": {
   "codemirror_mode": {
    "name": "ipython",
    "version": 3
   },
   "file_extension": ".py",
   "mimetype": "text/x-python",
   "name": "python",
   "nbconvert_exporter": "python",
   "pygments_lexer": "ipython3",
   "version": "3.12.4"
  }
 },
 "nbformat": 4,
 "nbformat_minor": 5
}
