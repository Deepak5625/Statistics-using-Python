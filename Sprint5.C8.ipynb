{
 "cells": [
  {
   "cell_type": "code",
   "execution_count": 1,
   "id": "e14a3c8f-3d79-405d-b422-2a3b74a04d4d",
   "metadata": {},
   "outputs": [],
   "source": [
    "import pandas as pd\n",
    "import numpy as np"
   ]
  },
  {
   "cell_type": "code",
   "execution_count": 3,
   "id": "407bc744-2a8f-4193-9eb9-2c1cb1d1a2bb",
   "metadata": {},
   "outputs": [],
   "source": [
    "df=pd.read_csv(r\"C:\\Users\\91994\\Downloads\\DS1_C8_Computers_Data_Project.csv\")"
   ]
  },
  {
   "cell_type": "code",
   "execution_count": 4,
   "id": "6326f4d8-4370-485b-bf21-bb8e170e4272",
   "metadata": {},
   "outputs": [
    {
     "data": {
      "text/plain": [
       "index       0\n",
       "price       0\n",
       "speed       0\n",
       "hd          0\n",
       "ram         0\n",
       "screen      0\n",
       "cd          0\n",
       "multi       0\n",
       "premium     0\n",
       "ads_2022    0\n",
       "ads_2023    0\n",
       "trend       0\n",
       "dtype: int64"
      ]
     },
     "execution_count": 4,
     "metadata": {},
     "output_type": "execute_result"
    }
   ],
   "source": [
    "df.isnull().sum()"
   ]
  },
  {
   "cell_type": "code",
   "execution_count": null,
   "id": "d6c023a0-7e40-404f-b76c-5b32f7fd02f7",
   "metadata": {},
   "outputs": [],
   "source": [
    "#Business Objective 1\n",
    "\n",
    "#Enhance Product Strategy and Sales Performance through Specification-Based Analysis"
   ]
  },
  {
   "cell_type": "code",
   "execution_count": null,
   "id": "24b323d1-09d7-461e-8a00-b35f27c4ad5e",
   "metadata": {},
   "outputs": [],
   "source": [
    "#Task 1\n",
    "\n",
    "#a) Analyze Purchase Likelihood Based on Specifications\n",
    "\n",
    "#The company wants to understand the likelihood of customers purchasing specific computer configurations based on a combination of desired features (RAM size, processor speed, size of the computer screen).\n",
    "\n",
    "#What is the probability of a customer purchasing a computer with at least 8GB of RAM, computer screen size of 14 inch, and a processor speed exceeding 33 MHz?"
   ]
  },
  {
   "cell_type": "code",
   "execution_count": 8,
   "id": "1d877c62-7977-4a9e-b605-4545b343f31f",
   "metadata": {},
   "outputs": [
    {
     "name": "stdout",
     "output_type": "stream",
     "text": [
      "Number of computers with specified configurations: 1003\n"
     ]
    }
   ],
   "source": [
    "# Filter for specified configurations\n",
    "filtered_data = df[(df['ram'] >= 8) & (df['screen'] == 14) & (df['speed'] > 33)]\n",
    "\n",
    "# Checking the count of filtered rows\n",
    "n_specified = len(filtered_data)\n",
    "print(f\"Number of computers with specified configurations: {n_specified}\")"
   ]
  },
  {
   "cell_type": "code",
   "execution_count": 9,
   "id": "256f67b3-1670-4055-8b7b-fb9276ae30da",
   "metadata": {},
   "outputs": [
    {
     "name": "stdout",
     "output_type": "stream",
     "text": [
      "Total computers: 6259\n",
      "Probability of purchase with specified configurations: 0.16\n"
     ]
    }
   ],
   "source": [
    "# Total number of computers in the dataset\n",
    "n_total = len(df)\n",
    "\n",
    "# Calculating probability\n",
    "probability = n_specified / n_total\n",
    "\n",
    "# Output the results\n",
    "print(f\"Total computers: {n_total}\")\n",
    "print(f\"Probability of purchase with specified configurations: {probability:.2f}\")"
   ]
  },
  {
   "cell_type": "code",
   "execution_count": null,
   "id": "beab850f-5f9b-45cc-9f12-e0468c082b03",
   "metadata": {},
   "outputs": [],
   "source": []
  },
  {
   "cell_type": "code",
   "execution_count": null,
   "id": "84c7389b-0992-4fff-8e5a-2c69b821032b",
   "metadata": {},
   "outputs": [],
   "source": [
    "#Task 1 (cont'd)\n",
    "\n",
    "#b) Probability of Selling Premium Computers\n",
    "\n",
    "#I. What is the probability of selling a premium computer?\n",
    "\n",
    "#II. Given that a computer is premium, what is the probability that it has a CD player?\n"
   ]
  },
  {
   "cell_type": "code",
   "execution_count": 10,
   "id": "acdab9d5-3c2d-4f74-8a49-fc92e93ead7d",
   "metadata": {},
   "outputs": [
    {
     "name": "stdout",
     "output_type": "stream",
     "text": [
      "Probability of selling a premium computer: 0.90\n"
     ]
    }
   ],
   "source": [
    "# Total computers and premium computers\n",
    "n_total = len(df)\n",
    "n_premium = len(df[df['premium'] == 'yes'])\n",
    "\n",
    "# Probability\n",
    "p_premium = n_premium / n_total\n",
    "print(f\"Probability of selling a premium computer: {p_premium:.2f}\")"
   ]
  },
  {
   "cell_type": "code",
   "execution_count": 12,
   "id": "136fc9ac-20df-48b6-8917-a782791dd07e",
   "metadata": {},
   "outputs": [
    {
     "name": "stdout",
     "output_type": "stream",
     "text": [
      "Probability of a premium computer having a CD player: 0.50\n"
     ]
    }
   ],
   "source": [
    "# Filter premium computers\n",
    "premium_computers = df[df['premium'] == 'yes']\n",
    "\n",
    "# Count premium computers with a CD player\n",
    "n_premium_with_cd = len(premium_computers[premium_computers['cd'] == 'yes'])\n",
    "\n",
    "# Conditional probability\n",
    "p_cd_given_premium = n_premium_with_cd / n_premium\n",
    "print(f\"Probability of a premium computer having a CD player: {p_cd_given_premium:.2f}\")"
   ]
  },
  {
   "cell_type": "code",
   "execution_count": null,
   "id": "3814681b-d353-4cda-94f2-dc5f74d353d0",
   "metadata": {},
   "outputs": [],
   "source": []
  },
  {
   "cell_type": "code",
   "execution_count": null,
   "id": "babb047e-b3b9-4d85-9b07-45ff595f1c65",
   "metadata": {},
   "outputs": [],
   "source": [
    "#Task 1 (cont'd)\n",
    "\n",
    "#c) Predicting the Probability of Certain Specifications\n",
    "\n",
    "#What is the probability of a computer having a screen size greater than 15 inches and being premium?\n",
    "\n",
    "#Given that a computer is not premium, what is the probability that it has a screen size less than or equal to 14 inches?"
   ]
  },
  {
   "cell_type": "code",
   "execution_count": 13,
   "id": "47d7d529-65e5-4f07-8e33-e1ef4332a6ff",
   "metadata": {},
   "outputs": [
    {
     "name": "stdout",
     "output_type": "stream",
     "text": [
      "Probability of screen > 15 inches and being premium: 0.08\n"
     ]
    }
   ],
   "source": [
    "# Total number of computers\n",
    "n_total = len(df)\n",
    "\n",
    "# Computers with screen > 15 and premium\n",
    "n_screen_premium = len(df[(df['screen'] > 15) & (df['premium'] == 'yes')])\n",
    "\n",
    "# Probability\n",
    "p_screen_and_premium = n_screen_premium / n_total\n",
    "print(f\"Probability of screen > 15 inches and being premium: {p_screen_and_premium:.2f}\")"
   ]
  },
  {
   "cell_type": "code",
   "execution_count": 14,
   "id": "97a1a11e-7cd5-452f-b22f-df91a68c34e9",
   "metadata": {},
   "outputs": [
    {
     "name": "stdout",
     "output_type": "stream",
     "text": [
      "Probability of screen ≤ 14 inches given not premium: 0.69\n"
     ]
    }
   ],
   "source": [
    "# Filter for non-premium computers\n",
    "non_premium_computers = df[df['premium'] == 'no']\n",
    "\n",
    "# Total non-premium computers\n",
    "n_non_premium = len(non_premium_computers)\n",
    "\n",
    "# Non-premium computers with screen ≤ 14\n",
    "n_screen_non_premium = len(non_premium_computers[non_premium_computers['screen'] <= 14])\n",
    "\n",
    "# Conditional probability\n",
    "p_screen_given_non_premium = n_screen_non_premium / n_non_premium\n",
    "print(f\"Probability of screen ≤ 14 inches given not premium: {p_screen_given_non_premium:.2f}\")"
   ]
  },
  {
   "cell_type": "code",
   "execution_count": null,
   "id": "e8ff461f-ee93-4476-a096-e17c05b662a8",
   "metadata": {},
   "outputs": [],
   "source": []
  },
  {
   "cell_type": "code",
   "execution_count": null,
   "id": "abef512a-fc25-43cd-b026-cd78362c7090",
   "metadata": {},
   "outputs": [],
   "source": [
    "#Task 1 (cont'd)\n",
    "\n",
    "#d) Likelihood of computers having both a CD player and a multimedia kit\n",
    "\n",
    "#i What is the joint probability of computers having both a CD player and a multimedia kit?\n",
    "\n",
    "#ii. Given that a computer has a CD player, what is the probability that it also has a multimedia kit?"
   ]
  },
  {
   "cell_type": "code",
   "execution_count": 16,
   "id": "4c0cc0fa-2cd6-451f-99b4-9112ea9f0aba",
   "metadata": {},
   "outputs": [
    {
     "name": "stdout",
     "output_type": "stream",
     "text": [
      "Joint probability of having both a CD player and a multimedia kit: 0.14\n"
     ]
    }
   ],
   "source": [
    "# Total number of computers\n",
    "n_total = len(df)\n",
    "\n",
    "# Computers with both CD player and multimedia kit\n",
    "n_cd_and_multi = len(df[(df['cd'] == 'yes') & (df['multi'] == 'yes')])\n",
    "\n",
    "# Joint probability\n",
    "p_cd_and_multi = n_cd_and_multi / n_total\n",
    "print(f\"Joint probability of having both a CD player and a multimedia kit: {p_cd_and_multi:.2f}\")"
   ]
  },
  {
   "cell_type": "code",
   "execution_count": 17,
   "id": "5a6df0aa-edf1-4f4a-9714-ef4b61f2285c",
   "metadata": {},
   "outputs": [
    {
     "name": "stdout",
     "output_type": "stream",
     "text": [
      "Probability of having a multimedia kit given a CD player: 0.30\n"
     ]
    }
   ],
   "source": [
    "# Filter for computers with a CD player\n",
    "cd_computers = df[df['cd'] == 'yes']\n",
    "\n",
    "# Total computers with a CD player\n",
    "n_cd = len(cd_computers)\n",
    "\n",
    "# Computers with both CD player and multimedia kit\n",
    "n_multi_given_cd = len(cd_computers[cd_computers['multi'] == 'yes'])\n",
    "\n",
    "# Conditional probability\n",
    "p_multi_given_cd = n_multi_given_cd / n_cd\n",
    "print(f\"Probability of having a multimedia kit given a CD player: {p_multi_given_cd:.2f}\")\n"
   ]
  },
  {
   "cell_type": "code",
   "execution_count": null,
   "id": "8fbf0483-d1e5-4f3f-ae76-b1f96f55c04b",
   "metadata": {},
   "outputs": [],
   "source": []
  },
  {
   "cell_type": "code",
   "execution_count": null,
   "id": "41240035-30e2-4bd4-bb3c-77ac8bc0d72e",
   "metadata": {},
   "outputs": [],
   "source": [
    "#Business Objective 2\n",
    "\n",
    "#Assessing Price Disparities Between Premium and Non- Premium Computers as compared to prices of both categories together."
   ]
  },
  {
   "cell_type": "code",
   "execution_count": null,
   "id": "b069681b-c68c-4a5a-a92e-ef2675936c6c",
   "metadata": {},
   "outputs": [],
   "source": [
    "#Task 2\n",
    "\n",
    "#a) What is the average price of computers in the population/whole data?\n"
   ]
  },
  {
   "cell_type": "code",
   "execution_count": 18,
   "id": "0533de82-5cc4-4f66-9505-c0a59f594e1b",
   "metadata": {},
   "outputs": [
    {
     "name": "stdout",
     "output_type": "stream",
     "text": [
      "Average price of computers in the dataset: $2219.58\n"
     ]
    }
   ],
   "source": [
    "# Calculate the average price of all computers\n",
    "avg_price_population = df['price'].mean()\n",
    "\n",
    "print(f\"Average price of computers in the dataset: ${avg_price_population:.2f}\")"
   ]
  },
  {
   "cell_type": "code",
   "execution_count": null,
   "id": "f24d58ee-15a7-4cd5-af64-79d576d34290",
   "metadata": {},
   "outputs": [],
   "source": []
  },
  {
   "cell_type": "code",
   "execution_count": null,
   "id": "6885c51b-c50f-40cf-b772-cb1803e8e1dc",
   "metadata": {},
   "outputs": [],
   "source": [
    "# b) How does the average price of samples vary when data is sampled using different sampling techniques?"
   ]
  },
  {
   "cell_type": "code",
   "execution_count": 19,
   "id": "b9ca53a9-e51c-4cb5-b287-9ae721732736",
   "metadata": {},
   "outputs": [
    {
     "name": "stdout",
     "output_type": "stream",
     "text": [
      "Simple Random Sampling Avg Price: $2223.37\n"
     ]
    }
   ],
   "source": [
    "# Simple random sampling\n",
    "sample_random = df.sample(n=30, random_state=42)\n",
    "avg_price_random = sample_random['price'].mean()\n",
    "print(f\"Simple Random Sampling Avg Price: ${avg_price_random:.2f}\")"
   ]
  },
  {
   "cell_type": "code",
   "execution_count": 20,
   "id": "6cb0eabd-e665-4264-a88f-7b326aae115d",
   "metadata": {},
   "outputs": [
    {
     "name": "stdout",
     "output_type": "stream",
     "text": [
      "Stratified Sampling Avg Price: $2193.10\n"
     ]
    }
   ],
   "source": [
    "# Split data into groups\n",
    "premium = df[df['premium'] == 'yes']\n",
    "non_premium = df[df['premium'] == 'no']\n",
    "\n",
    "# Proportional sample sizes (e.g., 70% premium, 30% non-premium)\n",
    "sample_premium = premium.sample(n=21, random_state=42)  # 70% of 30\n",
    "sample_non_premium = non_premium.sample(n=9, random_state=42)  # 30% of 30\n",
    "\n",
    "# Combine and calculate average\n",
    "sample_stratified = pd.concat([sample_premium, sample_non_premium])\n",
    "avg_price_stratified = sample_stratified['price'].mean()\n",
    "print(f\"Stratified Sampling Avg Price: ${avg_price_stratified:.2f}\")"
   ]
  },
  {
   "cell_type": "code",
   "execution_count": 21,
   "id": "2fc4f128-548d-4bc1-b9a5-d7ac0de06a18",
   "metadata": {},
   "outputs": [
    {
     "name": "stdout",
     "output_type": "stream",
     "text": [
      "Systematic Sampling Avg Price: $2220.65\n"
     ]
    }
   ],
   "source": [
    "# Systematic sampling (e.g., every 10th record)\n",
    "k = 10\n",
    "sample_systematic = df.iloc[::k]\n",
    "avg_price_systematic = sample_systematic['price'].mean()\n",
    "print(f\"Systematic Sampling Avg Price: ${avg_price_systematic:.2f}\")"
   ]
  },
  {
   "cell_type": "code",
   "execution_count": null,
   "id": "57ff07ab-bcd3-4ed9-a801-bf74ec265c9e",
   "metadata": {},
   "outputs": [],
   "source": []
  },
  {
   "cell_type": "code",
   "execution_count": null,
   "id": "8898f1d1-5811-4796-abbd-5829afed9113",
   "metadata": {},
   "outputs": [],
   "source": [
    "#Task 2 (cont'd)\n",
    "\n",
    "#c) What is the average price of premium and non-premium computers in the whole data? How does the average price differ between premium and non-premium computers of sampled data using simple random sampling without replacement?"
   ]
  },
  {
   "cell_type": "code",
   "execution_count": 22,
   "id": "169f1b60-30a1-45e5-a38f-bb9a8dd28967",
   "metadata": {},
   "outputs": [
    {
     "name": "stdout",
     "output_type": "stream",
     "text": [
      "Average price of premium computers: $2204.15\n",
      "Average price of non-premium computers: $2361.93\n"
     ]
    }
   ],
   "source": [
    "# Average price for premium computers\n",
    "avg_price_premium = df[df['premium'] == 'yes']['price'].mean()\n",
    "\n",
    "# Average price for non-premium computers\n",
    "avg_price_non_premium = df[df['premium'] == 'no']['price'].mean()\n",
    "\n",
    "print(f\"Average price of premium computers: ${avg_price_premium:.2f}\")\n",
    "print(f\"Average price of non-premium computers: ${avg_price_non_premium:.2f}\")"
   ]
  },
  {
   "cell_type": "code",
   "execution_count": 23,
   "id": "c978cc66-c6e1-45a7-a869-2cd5cdcd26a6",
   "metadata": {},
   "outputs": [
    {
     "name": "stdout",
     "output_type": "stream",
     "text": [
      "Sampled Premium Computers Avg Price: $2225.86\n",
      "Sampled Non-Premium Computers Avg Price: $2188.50\n"
     ]
    }
   ],
   "source": [
    "# Simple random sampling without replacement\n",
    "sample_random = df.sample(n=30, random_state=42)\n",
    "\n",
    "# Average price for premium and non-premium computers in the sample\n",
    "avg_price_premium_sample = sample_random[sample_random['premium'] == 'yes']['price'].mean()\n",
    "avg_price_non_premium_sample = sample_random[sample_random['premium'] == 'no']['price'].mean()\n",
    "\n",
    "print(f\"Sampled Premium Computers Avg Price: ${avg_price_premium_sample:.2f}\")\n",
    "print(f\"Sampled Non-Premium Computers Avg Price: ${avg_price_non_premium_sample:.2f}\")"
   ]
  },
  {
   "cell_type": "code",
   "execution_count": null,
   "id": "27b06988-f43a-4ed9-8736-2eec82a7c262",
   "metadata": {},
   "outputs": [],
   "source": []
  },
  {
   "cell_type": "code",
   "execution_count": null,
   "id": "874e7029-dd7c-468f-9064-e9b483d24903",
   "metadata": {},
   "outputs": [],
   "source": [
    "#d) Write your interpretation by comparing prices of premium and non-premium computers individually and prices of both categories together."
   ]
  },
  {
   "cell_type": "code",
   "execution_count": null,
   "id": "12b5076f-e3ef-4b4b-8ff3-b2f2b5bdf72a",
   "metadata": {},
   "outputs": [],
   "source": [
    "#Premium Computers:\n",
    "#Whole Data: $2,204.15\n",
    "#Sampled Data: $2,225.86\n",
    "#Premium computers are priced lower than non-premium ones, with minimal price difference between the whole dataset and the sample.\n",
    "\n",
    "#Non-Premium Computers:\n",
    "#Whole Data: $2,361.93\n",
    "#Sampled Data: $2,188.50\n",
    "#Non-premium computers are more expensive on average in the whole dataset, but the sample shows them to be cheaper than premium models.\n",
    "\n",
    "#Combined Price:\n",
    "#Whole Data: Non-premium computers pull the overall average higher due to their higher prices.\n",
    "#Sampled Data: The price gap between premium and non-premium computers is smaller in the sample, showing random selection may not reflect the true price distribution."
   ]
  },
  {
   "cell_type": "code",
   "execution_count": null,
   "id": "737edf32-e509-4ab0-8d92-2e9963b0e20b",
   "metadata": {},
   "outputs": [],
   "source": []
  },
  {
   "cell_type": "code",
   "execution_count": null,
   "id": "5a75b143-907a-4c34-9e1e-03d18ce415bb",
   "metadata": {},
   "outputs": [],
   "source": [
    "#Business Objective 3\n",
    "\n",
    "#Understanding Computer Price Trends Through Distribution Analysis"
   ]
  },
  {
   "cell_type": "code",
   "execution_count": null,
   "id": "9d0111b4-f063-45a6-bf03-d0de29c415c7",
   "metadata": {},
   "outputs": [],
   "source": [
    "#Task 3\n",
    "\n",
    "#a) How does the distribution of sample means change for computer prices with different sample sizes?"
   ]
  },
  {
   "cell_type": "code",
   "execution_count": 24,
   "id": "d4b55b9f-c65a-445b-95c5-3af4f5cda455",
   "metadata": {},
   "outputs": [
    {
     "data": {
      "image/png": "[encoded data removed]",
      "text/plain": [
       "<Figure size 1200x800 with 1 Axes>"
      ]
     },
     "metadata": {},
     "output_type": "display_data"
    }
   ],
   "source": [
    "import matplotlib.pyplot as plt\n",
    "import numpy as np\n",
    "\n",
    "# Function to take samples and calculate their means\n",
    "def sample_distribution(df, sample_sizes, num_samples=1000):\n",
    "    sample_means = {}\n",
    "    for size in sample_sizes:\n",
    "        means = [df.sample(n=size)['price'].mean() for _ in range(num_samples)]\n",
    "        sample_means[size] = means\n",
    "    return sample_means\n",
    "\n",
    "# Define sample sizes (e.g., 10, 50, 100)\n",
    "sample_sizes = [10, 50, 100]\n",
    "\n",
    "# Get the sample means\n",
    "sample_means = sample_distribution(df, sample_sizes)\n",
    "\n",
    "# Plot the distributions of sample means for different sample sizes\n",
    "plt.figure(figsize=(12, 8))\n",
    "for size, means in sample_means.items():\n",
    "    plt.hist(means, bins=30, alpha=0.5, label=f'Sample size = {size}')\n",
    "    \n",
    "plt.title('Distribution of Sample Means for Different Sample Sizes')\n",
    "plt.xlabel('Sample Mean Price')\n",
    "plt.ylabel('Frequency')\n",
    "plt.legend()\n",
    "plt.show()\n"
   ]
  },
  {
   "cell_type": "code",
   "execution_count": null,
   "id": "cfbc0ede-03bc-4cb4-8ed7-6cc4e10a7feb",
   "metadata": {},
   "outputs": [],
   "source": []
  },
  {
   "cell_type": "code",
   "execution_count": null,
   "id": "fa545962-ef00-458a-8656-59605da28355",
   "metadata": {},
   "outputs": [],
   "source": [
    "# b) Does the distribution of sample means approximate a normal distribution as sample size increases?"
   ]
  },
  {
   "cell_type": "code",
   "execution_count": null,
   "id": "29a863ab-513e-4dd0-8da8-e43dc8ebd391",
   "metadata": {},
   "outputs": [],
   "source": [
    "#Yes, the distribution of sample means approximates a normal distribution as the sample size increases. \n",
    "#This is a fundamental principle in statistics, known as the Central Limit Theorem (CLT)."
   ]
  },
  {
   "cell_type": "code",
   "execution_count": null,
   "id": "19ee5f08-131f-4ff0-8db1-24c2cbfa99d5",
   "metadata": {},
   "outputs": [],
   "source": []
  },
  {
   "cell_type": "code",
   "execution_count": null,
   "id": "0ec20dcc-33b3-48c9-83eb-b4b2df2920cd",
   "metadata": {},
   "outputs": [],
   "source": [
    "# c) Check if properties of Central limit theorem for the samples is satisfied."
   ]
  },
  {
   "cell_type": "code",
   "execution_count": 26,
   "id": "015bcf10-ceda-4256-b863-f2f4ac43bbbc",
   "metadata": {},
   "outputs": [
    {
     "name": "stdout",
     "output_type": "stream",
     "text": [
      "Shapiro-Wilk Test Stat: 0.9984093428521674, P-Value: 0.49683298445182417\n",
      "Fail to reject the null hypothesis: The sample means are normally distributed.\n"
     ]
    }
   ],
   "source": [
    "import scipy.stats as stats\n",
    "\n",
    "# Shapiro-Wilk test for normality on larger sample size\n",
    "sample_mean_large = sample_means[100]  # Sample means from size 100\n",
    "\n",
    "# Perform Shapiro-Wilk test\n",
    "stat, p_value = stats.shapiro(sample_mean_large)\n",
    "\n",
    "# Print test statistic and p-value\n",
    "print(f\"Shapiro-Wilk Test Stat: {stat}, P-Value: {p_value}\")\n",
    "\n",
    "# Interpreting the result based on p-value\n",
    "if p_value > 0.05:\n",
    "    print(\"Fail to reject the null hypothesis: The sample means are normally distributed.\")\n",
    "else:\n",
    "    print(\"Reject the null hypothesis: The sample means are not normally distributed.\")"
   ]
  }
 ],
 "metadata": {
  "kernelspec": {
   "display_name": "Python 3 (ipykernel)",
   "language": "python",
   "name": "python3"
  },
  "language_info": {
   "codemirror_mode": {
    "name": "ipython",
    "version": 3
   },
   "file_extension": ".py",
   "mimetype": "text/x-python",
   "name": "python",
   "nbconvert_exporter": "python",
   "pygments_lexer": "ipython3",
   "version": "3.12.4"
  }
 },
 "nbformat": 4,
 "nbformat_minor": 5
}
